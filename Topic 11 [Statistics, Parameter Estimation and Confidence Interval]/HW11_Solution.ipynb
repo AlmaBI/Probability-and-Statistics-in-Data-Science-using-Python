{
 "cells": [
  {
   "cell_type": "code",
   "execution_count": 87,
   "metadata": {},
   "outputs": [
    {
     "name": "stdout",
     "output_type": "stream",
     "text": [
      "[[         nan]\n",
      " [291.53      ]\n",
      " [291.53350095]\n",
      " ...\n",
      " [292.58      ]\n",
      " [292.61      ]\n",
      " [291.4       ]]\n"
     ]
    },
    {
     "data": {
      "image/png": "[encoded data removed]",
      "text/plain": [
       "<Figure size 432x288 with 1 Axes>"
      ]
     },
     "metadata": {
      "needs_background": "light"
     },
     "output_type": "display_data"
    }
   ],
   "source": [
    "import pandas as pd\n",
    "import matplotlib.pyplot as plt\n",
    "import numpy as np\n",
    "\n",
    "df = pd.read_csv('C:/Users/almbi/Probability and Statistics/Topic 11/temperature.csv')\n",
    "df1 = df.loc[:, ['San Diego']]\n",
    "\n",
    "all_temperature = df1.values\n",
    "print(all_temperature) \n",
    "all_temperature = all_temperature[~np.isnan(all_temperature)]\n",
    "\n",
    "plt.hist(all_temperature, bins = 100)\n",
    "plt.show()"
   ]
  },
  {
   "cell_type": "code",
   "execution_count": 61,
   "metadata": {},
   "outputs": [
    {
     "name": "stdout",
     "output_type": "stream",
     "text": [
      "290.21504416529143\n"
     ]
    }
   ],
   "source": [
    "# returns the mean of that random sample\n",
    "mean = np.mean(all_temperature)\n",
    "print(mean)"
   ]
  },
  {
   "cell_type": "code",
   "execution_count": 62,
   "metadata": {},
   "outputs": [
    {
     "name": "stdout",
     "output_type": "stream",
     "text": [
      "34.69124106330701\n"
     ]
    }
   ],
   "source": [
    "# returns the variance of that random sample\n",
    "var = np.var(all_temperature)\n",
    "print(var)"
   ]
  },
  {
   "cell_type": "code",
   "execution_count": 77,
   "metadata": {},
   "outputs": [
    {
     "name": "stdout",
     "output_type": "stream",
     "text": [
      "The sample mean is 290.21504416529143\n",
      "The sample variance is 34.692007703625755\n"
     ]
    }
   ],
   "source": [
    "# another why to do it\n",
    "mu_all = np.mean(all_temperature)\n",
    "var_all = np.var(all_temperature, ddof=1)\n",
    "\n",
    "print('The sample mean is {}'.format(mu_all))\n",
    "print('The sample variance is {}'.format(var_all))\n",
    "      "
   ]
  },
  {
   "cell_type": "code",
   "execution_count": 78,
   "metadata": {},
   "outputs": [
    {
     "name": "stdout",
     "output_type": "stream",
     "text": [
      "[291.53       291.53350095 291.54335508 ... 292.58       292.61\n",
      " 291.4       ]\n"
     ]
    }
   ],
   "source": [
    "print(all_temperature)"
   ]
  },
  {
   "cell_type": "code",
   "execution_count": 79,
   "metadata": {},
   "outputs": [
    {
     "name": "stdout",
     "output_type": "stream",
     "text": [
      "                  datetime   San Diego\n",
      "0      2012-10-01 12:00:00         NaN\n",
      "1      2012-10-01 13:00:00  291.530000\n",
      "2      2012-10-01 14:00:00  291.533501\n",
      "3      2012-10-01 15:00:00  291.543355\n",
      "4      2012-10-01 16:00:00  291.553209\n",
      "...                    ...         ...\n",
      "45248  2017-11-29 20:00:00  292.150000\n",
      "45249  2017-11-29 21:00:00  292.740000\n",
      "45250  2017-11-29 22:00:00  292.580000\n",
      "45251  2017-11-29 23:00:00  292.610000\n",
      "45252  2017-11-30 00:00:00  291.400000\n",
      "\n",
      "[45253 rows x 2 columns]\n"
     ]
    }
   ],
   "source": [
    "data = df.loc[:, ['datetime', 'San Diego']]\n",
    "print(data)"
   ]
  },
  {
   "cell_type": "code",
   "execution_count": 80,
   "metadata": {},
   "outputs": [
    {
     "name": "stdout",
     "output_type": "stream",
     "text": [
      "0        10\n",
      "1        10\n",
      "2        10\n",
      "3        10\n",
      "4        10\n",
      "         ..\n",
      "45248    11\n",
      "45249    11\n",
      "45250    11\n",
      "45251    11\n",
      "45252    11\n",
      "Name: month, Length: 45253, dtype: int64\n"
     ]
    }
   ],
   "source": [
    "df['month'] = pd.DatetimeIndex(df['datetime']).month\n",
    "print(df['month'])"
   ]
  },
  {
   "cell_type": "code",
   "execution_count": 93,
   "metadata": {},
   "outputs": [],
   "source": [
    "data['datetime'] = pd.to_datetime(data['datetime']) \n",
    "df4 = data[data['datetime'].dt.month == 2]"
   ]
  },
  {
   "cell_type": "code",
   "execution_count": 94,
   "metadata": {},
   "outputs": [
    {
     "name": "stdout",
     "output_type": "stream",
     "text": [
      "                 datetime  San Diego\n",
      "2940  2013-02-01 00:00:00     289.83\n",
      "2941  2013-02-01 01:00:00     289.15\n",
      "2942  2013-02-01 02:00:00     287.80\n",
      "2943  2013-02-01 03:00:00     286.71\n",
      "2944  2013-02-01 04:00:00     285.79\n",
      "...                   ...        ...\n",
      "38671 2017-02-28 19:00:00     287.25\n",
      "38672 2017-02-28 20:00:00     287.26\n",
      "38673 2017-02-28 21:00:00     288.61\n",
      "38674 2017-02-28 22:00:00     288.23\n",
      "38675 2017-02-28 23:00:00     287.97\n",
      "\n",
      "[3384 rows x 2 columns]\n"
     ]
    }
   ],
   "source": [
    "print(df4)"
   ]
  },
  {
   "cell_type": "code",
   "execution_count": 98,
   "metadata": {},
   "outputs": [],
   "source": [
    "#The sample mean in February 2013\n",
    "df4 = df4.loc[:, ['San Diego']]"
   ]
  },
  {
   "cell_type": "code",
   "execution_count": 99,
   "metadata": {},
   "outputs": [
    {
     "name": "stdout",
     "output_type": "stream",
     "text": [
      "       San Diego\n",
      "2940      289.83\n",
      "2941      289.15\n",
      "2942      287.80\n",
      "2943      286.71\n",
      "2944      285.79\n",
      "...          ...\n",
      "38671     287.25\n",
      "38672     287.26\n",
      "38673     288.61\n",
      "38674     288.23\n",
      "38675     287.97\n",
      "\n",
      "[3384 rows x 1 columns]\n"
     ]
    }
   ],
   "source": [
    "print(df4)"
   ]
  },
  {
   "cell_type": "code",
   "execution_count": 100,
   "metadata": {},
   "outputs": [
    {
     "name": "stdout",
     "output_type": "stream",
     "text": [
      "San Diego    286.558241\n",
      "dtype: float64\n"
     ]
    }
   ],
   "source": [
    "# returns the mean for San Diego for February data sample\n",
    "# correct answer\n",
    "mean = np.mean(df4)\n",
    "print(mean)"
   ]
  },
  {
   "cell_type": "code",
   "execution_count": null,
   "metadata": {},
   "outputs": [],
   "source": [
    "#Alternative\n",
    "import numpy as np\n",
    "import pandas as pd\n",
    "\n",
    "df = pd.read_csv('./temperature.csv')\n",
    "df = df[ df['datetime'].str.contains('2013-02')]\n",
    "df = df.loc[:, ['San Diego']]\n",
    "\n",
    "temperature = df.values\n",
    "temperature = temperature[~np.isnan(temperature)]\n",
    "\n",
    "mu = np.mean(temperature)\n",
    "\n",
    "print('The sample mean in February 2013 is {}'.format(mu))"
   ]
  }
 ],
 "metadata": {
  "kernelspec": {
   "display_name": "Python 3",
   "language": "python",
   "name": "python3"
  },
  "language_info": {
   "codemirror_mode": {
    "name": "ipython",
    "version": 3
   },
   "file_extension": ".py",
   "mimetype": "text/x-python",
   "name": "python",
   "nbconvert_exporter": "python",
   "pygments_lexer": "ipython3",
   "version": "3.8.5"
  }
 },
 "nbformat": 4,
 "nbformat_minor": 4
}
