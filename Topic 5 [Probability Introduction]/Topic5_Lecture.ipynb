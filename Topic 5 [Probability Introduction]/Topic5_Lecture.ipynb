{
 "cells": [
  {
   "cell_type": "markdown",
   "metadata": {},
   "source": [
    "# 5. Probability\n",
    "\n",
    "In this notebook we start discussing probability. First we introduce two useful Python Libraries. "
   ]
  },
  {
   "cell_type": "markdown",
   "metadata": {},
   "source": [
    "## 5.1  Matplotlib and Numpy"
   ]
  },
  {
   "cell_type": "markdown",
   "metadata": {},
   "source": [
    "A picture is worth a thousand words, so is it true in data science. Being able to visualizing results is a principal tool and we will use the [Matplotlib](https://matplotlib.org/#) library to view our results. To learn more about this library take a look at the visualization notebook. Another fundamental package for statistics in Python is [Numpy](http://www.numpy.org/). It has functions and methods for operations such as random number generation, matrix operations and basic statistical analysis. In the next few lectures we will explore the different classes and methods available in these library."
   ]
  },
  {
   "cell_type": "code",
   "execution_count": 8,
   "metadata": {},
   "outputs": [],
   "source": [
    "import matplotlib.pyplot as plt\n",
    "import numpy as np\n",
    "import ipywidgets as widgets"
   ]
  },
  {
   "cell_type": "markdown",
   "metadata": {},
   "source": [
    "The following cell presets the the figure configurations for the plots. "
   ]
  },
  {
   "cell_type": "code",
   "execution_count": 9,
   "metadata": {},
   "outputs": [],
   "source": [
    "plt.style.use([{\n",
    "    \"figure.figsize\":(12,9), # Figure size\n",
    "    \"xtick.labelsize\": \"large\", # Font size of the X-ticks\n",
    "    \"ytick.labelsize\": \"large\", # Font size of the Y-ticks\n",
    "    \"legend.fontsize\": \"x-large\", # Font size of the legend\n",
    "    \"axes.labelsize\": \"x-large\", # Font size of labels\n",
    "    \"axes.titlesize\": \"xx-large\", # Font size of title\n",
    "    \"axes.spines.top\": False,\n",
    "    \"axes.spines.right\": False,\n",
    "},'seaborn-poster'])"
   ]
  },
  {
   "cell_type": "markdown",
   "metadata": {},
   "source": [
    "## 5.2 Coin Flips\n",
    "\n",
    "When it comes to probability calculations, coin flips are among the easiest events to deal with. Consider a fair coin (a coin that produces heads and tails with equal likelihood). Let $H$ be the event of getting heads as the outcome and $T$ the event of getting tails as the outcome. We now calculate $P(H)$. We know that\n",
    "\n",
    "$$P(H)=P(T)$$ for a fair coin.\n",
    "\n",
    "Also, \n",
    "\n",
    "$$P(H)+P(T)=1$$ \n",
    "\n",
    "by the axioms of probability. Thus, \n",
    "\n",
    "$$P(H)=\\frac{1}{2}=0.5$$. "
   ]
  },
  {
   "cell_type": "markdown",
   "metadata": {},
   "source": [
    "Let us toss 10 fair coins and see the outcomes we get."
   ]
  },
  {
   "cell_type": "code",
   "execution_count": 10,
   "metadata": {},
   "outputs": [
    {
     "name": "stdout",
     "output_type": "stream",
     "text": [
      "['h' 't' 't' 't' 'h' 't' 't' 't' 't' 'h']\n"
     ]
    }
   ],
   "source": [
    "p=0.5\n",
    "n=10\n",
    "tosses=np.random.choice([\"h\",\"t\"],p=[1-p,p], size=n)\n",
    "print(tosses)"
   ]
  },
  {
   "cell_type": "markdown",
   "metadata": {},
   "source": [
    "You may want to run the code again and see if you get a different sequence. You can also modify the number of coin-flips or the probability of heads.\n",
    "\n",
    "You can also slightly beautify the printout."
   ]
  },
  {
   "cell_type": "code",
   "execution_count": 11,
   "metadata": {},
   "outputs": [
    {
     "name": "stdout",
     "output_type": "stream",
     "text": [
      "h, t, t, t, h, t, t, t, t, h\n"
     ]
    }
   ],
   "source": [
    "print(', '.join(tosses))"
   ]
  },
  {
   "cell_type": "markdown",
   "metadata": {},
   "source": [
    "Next, let us count the number of heads and tails."
   ]
  },
  {
   "cell_type": "code",
   "execution_count": 12,
   "metadata": {},
   "outputs": [
    {
     "name": "stdout",
     "output_type": "stream",
     "text": [
      "3 heads and 7 tails\n"
     ]
    }
   ],
   "source": [
    "heads = list(tosses).count(\"h\")\n",
    "tails = list(tosses).count(\"t\")\n",
    "\n",
    "print(\"{} heads and {} tails\".format(heads,tails))"
   ]
  },
  {
   "cell_type": "markdown",
   "metadata": {},
   "source": [
    "Finally, let's visualize these numbers. You may want to run the code from the start a few times to get a feel for the different numbers of heads and tails you get. "
   ]
  },
  {
   "cell_type": "code",
   "execution_count": 17,
   "metadata": {
    "scrolled": false
   },
   "outputs": [
    {
     "data": {
      "image/png": "[encoded data removed]",
      "text/plain": [
       "<Figure size 921.6x633.6 with 1 Axes>"
      ]
     },
     "metadata": {
      "needs_background": "light"
     },
     "output_type": "display_data"
    }
   ],
   "source": [
    "plt.bar([0,1],[heads,tails],tick_label=['h','t'],align='center')\n",
    "plt.ylim([0,10])\n",
    "plt.show()"
   ]
  },
  {
   "cell_type": "markdown",
   "metadata": {},
   "source": [
    "We now perform `n_simulations` simulations, each emulates `n_tosses` coin flips and plots the fraction of heads as the number of tosses increases. \n",
    "\n",
    "Note: The code below uses '1' to represent heads and '0' to represent tails."
   ]
  },
  {
   "cell_type": "code",
   "execution_count": 18,
   "metadata": {},
   "outputs": [
    {
     "data": {
      "application/vnd.jupyter.widget-view+json": {
       "model_id": "399d4d5c25a64584b76c43ed94fa641a",
       "version_major": 2,
       "version_minor": 0
      },
      "text/plain": [
       "interactive(children=(FloatSlider(value=0.5, description='p', max=1.0), IntSlider(value=500, description='n_to…"
      ]
     },
     "metadata": {},
     "output_type": "display_data"
    }
   ],
   "source": [
    "# This is a decorator that creates the slider\n",
    "@widgets.interact(p=(0.0,1.0),n_tosses=(1,1000),n_simulations=(1, 5),continuous_update=False)\n",
    "def simulate_coin_tosses(p,n_tosses,n_simulations):\n",
    "    # Run the experiment n_simulations times\n",
    "    for _ in range(n_simulations):\n",
    "        # Create three arrays consisting of: the coin flips, their running sums, and partial estimates\n",
    "        tosses = np.random.choice([0,1],p=[1-p,p], size=n_tosses)\n",
    "        partial_sums = np.cumsum(tosses)\n",
    "        partial_means =  partial_sums / np.arange(1,n_tosses+1)\n",
    "\n",
    "        # Plot the partial estimates\n",
    "        plt.plot(np.arange(1,n_tosses+1), partial_means)\n",
    "\n",
    "    plt.plot(range(n_tosses), [p]* n_tosses, 'k', linewidth=5.0, label = 'p')  # plot the value p\n",
    "\n",
    "    plt.xlabel('Number of coin tosses')\n",
    "    plt.ylabel('Fraction of heads')\n",
    "    plt.xlim([1, n_tosses]) # plot limits\n",
    "    plt.legend()\n",
    "    plt.show()\n"
   ]
  },
  {
   "cell_type": "markdown",
   "metadata": {},
   "source": [
    "We observe that the empirical probabilities approach the theoretical probability as the number of iterations increases."
   ]
  },
  {
   "cell_type": "markdown",
   "metadata": {},
   "source": [
    "## Reproducibility  "
   ]
  },
  {
   "cell_type": "markdown",
   "metadata": {},
   "source": [
    "Dice throws are another easy experiment to conduct. But first let us look at how we can reproduce the sampled data. To do this we can set the `seed` value of the random number generator to a chosen value."
   ]
  },
  {
   "cell_type": "code",
   "execution_count": 19,
   "metadata": {},
   "outputs": [
    {
     "name": "stdout",
     "output_type": "stream",
     "text": [
      "2\n"
     ]
    }
   ],
   "source": [
    "np.random.seed(666)\n",
    "print(np.random.randint(9))"
   ]
  },
  {
   "cell_type": "markdown",
   "metadata": {},
   "source": [
    "If we run the experiment again, we might get a different set of numbers."
   ]
  },
  {
   "cell_type": "code",
   "execution_count": 20,
   "metadata": {},
   "outputs": [
    {
     "name": "stdout",
     "output_type": "stream",
     "text": [
      "6\n"
     ]
    }
   ],
   "source": [
    "print(np.random.randint(9))"
   ]
  },
  {
   "cell_type": "code",
   "execution_count": 21,
   "metadata": {
    "scrolled": true
   },
   "outputs": [
    {
     "name": "stdout",
     "output_type": "stream",
     "text": [
      "2\n",
      "6\n"
     ]
    }
   ],
   "source": [
    "np.random.seed(666)\n",
    "print(np.random.randint(9))\n",
    "print(np.random.randint(9))"
   ]
  },
  {
   "cell_type": "markdown",
   "metadata": {},
   "source": [
    "## Tetrahedron Die - Events"
   ]
  },
  {
   "cell_type": "code",
   "execution_count": 24,
   "metadata": {},
   "outputs": [],
   "source": [
    "n=10000\n",
    "samples = np.random.choice([1,2,3,4],p=[0.1,0.2,0.3,0.4],size=n)\n",
    "height,left = np.histogram(samples,bins=4,range=(1,5))\n",
    "heights = height/n"
   ]
  },
  {
   "cell_type": "code",
   "execution_count": 25,
   "metadata": {},
   "outputs": [
    {
     "name": "stderr",
     "output_type": "stream",
     "text": [
      "<ipython-input-25-fca13e986a5d>:3: MatplotlibDeprecationWarning: Using a string of single character colors as a color sequence is deprecated since 3.2 and will be removed two minor releases later. Use an explicit list instead.\n",
      "  plt.bar(left[:-1],heights,color=colors,tick_label=[1,2,3,4],align='center')\n"
     ]
    },
    {
     "data": {
      "image/png": "[encoded data removed]",
      "text/plain": [
       "<Figure size 921.6x633.6 with 1 Axes>"
      ]
     },
     "metadata": {
      "needs_background": "light"
     },
     "output_type": "display_data"
    }
   ],
   "source": [
    "#plt.figure(figsize=(12,9))\n",
    "colors='rgby'\n",
    "plt.bar(left[:-1],heights,color=colors,tick_label=[1,2,3,4],align='center')\n",
    "plt.xlabel(\"Outcomes\", fontsize=16)\n",
    "plt.ylabel(\"Probabilities\", fontsize=16)\n",
    "plt.show()"
   ]
  },
  {
   "cell_type": "code",
   "execution_count": 28,
   "metadata": {},
   "outputs": [
    {
     "data": {
      "image/png": "[encoded data removed]",
      "text/plain": [
       "<Figure size 921.6x633.6 with 1 Axes>"
      ]
     },
     "metadata": {
      "needs_background": "light"
     },
     "output_type": "display_data"
    }
   ],
   "source": [
    "plt.bar([0,1],[0,0],tick_label=['Odd','Even'],align='center')\n",
    "plt.bar([0,1],[heights[0],0],color='r',align='center')\n",
    "plt.bar([0,1],[heights[2],0],color='b',bottom=[heights[0],0],align='center')\n",
    "plt.bar([0,1],[0,heights[1]],color='g',align='center')\n",
    "plt.bar([0,1],[0,heights[3]],color='y',bottom=[0,heights[1]],align='center')\n",
    "plt.xlabel(\"Events\", fontsize=16)\n",
    "plt.ylabel(\"Probabilities\", fontsize=16)\n",
    "plt.show()"
   ]
  },
  {
   "cell_type": "markdown",
   "metadata": {},
   "source": [
    "## 5.2 Die Rolls"
   ]
  },
  {
   "cell_type": "markdown",
   "metadata": {},
   "source": [
    "Now consider a fair die. Each face has probability $\\frac16$. We simulate $n$ die rolls and plot the empirical probability of each face, alongside the theoretical probability. "
   ]
  },
  {
   "cell_type": "code",
   "execution_count": 29,
   "metadata": {},
   "outputs": [
    {
     "data": {
      "application/vnd.jupyter.widget-view+json": {
       "model_id": "93b4f078af12412eb0f5fb27279fc30e",
       "version_major": 2,
       "version_minor": 0
      },
      "text/plain": [
       "interactive(children=(IntSlider(value=505, description='n', max=1000, min=10), Output()), _dom_classes=('widge…"
      ]
     },
     "metadata": {},
     "output_type": "display_data"
    }
   ],
   "source": [
    "# This is a decorator that creates the slider\n",
    "@widgets.interact(n=(10,1000),continuos_update=False)\n",
    "def probability_plot(n):\n",
    "    Outcomes = np.random.randint(6, size = n)\n",
    "    Count = np.zeros((6,n+1))\n",
    "    Prob = np.zeros((6,n+1))\n",
    "    \n",
    "    #Counting the occurance of each event\n",
    "    for i in range(1,n+1):\n",
    "        Count[:,i] = Count[:,i-1]\n",
    "        Count[Outcomes[i-1],i]+=1\n",
    "\n",
    "    # plot the empirical values\n",
    "    for i in range(6):\n",
    "        Prob = Count[i,1:]/np.arange(1,n+1)\n",
    "        plt.plot(np.arange(1, n + 1), Prob, linewidth=2.0, label='Face '+str(i+1))\n",
    "    \n",
    "    plt.plot(range(0, n), [1 / 6] * n, 'k', linewidth=3.0, label='Theoretical probability')\n",
    "    plt.title(\"Empirical and theoretical probabilities of the 6 faces\")\n",
    "    plt.xlabel('Number of Iterations')\n",
    "    plt.ylabel('Probability')\n",
    "    plt.xlim([1, n])\n",
    "    plt.ylim([0, 1])\n",
    "    plt.legend()\n",
    "    plt.show()"
   ]
  },
  {
   "cell_type": "markdown",
   "metadata": {},
   "source": [
    "Next consider the event $E=\\{2,4,6\\}$ that the outcome is even. Clearly $P(E)=\\frac36=\\frac{1}{2}=0.5$.\n",
    "\n",
    "The next cell simulates $n$ die rolls and plots the theoretical and empirical probabilities of $E$."
   ]
  },
  {
   "cell_type": "code",
   "execution_count": 30,
   "metadata": {},
   "outputs": [
    {
     "data": {
      "application/vnd.jupyter.widget-view+json": {
       "model_id": "78ccbbb3710248e4ba3c9337bd5ce155",
       "version_major": 2,
       "version_minor": 0
      },
      "text/plain": [
       "interactive(children=(IntSlider(value=5005, description='n', max=10000, min=10), Output()), _dom_classes=('wid…"
      ]
     },
     "metadata": {},
     "output_type": "display_data"
    }
   ],
   "source": [
    "# This is a decorator that creates the slider\n",
    "@widgets.interact(n=(10,10000),continuous_update=False)\n",
    "def probability_plot_B(n):\n",
    "    Outcomes = 1 + np.random.randint(6, size = 10000)\n",
    "    Count_E = np.zeros((2,n+1))\n",
    "    \n",
    "    # Counting the Events of even numbers\n",
    "    for i in range(1,n+1):\n",
    "        Count_E[:,i] = Count_E[:,i-1] \n",
    "        Count_E[Outcomes[i]%2,i]+=1\n",
    "        \n",
    "    # Calculating the probability of even throw's\n",
    "    Prob_E = Count_E[0,1:]/np.arange(1,n+1)\n",
    "\n",
    "    plt.plot(range(1,n+1),Prob_E, 'b', linewidth= 2,label='Empherical probability')    \n",
    "    plt.plot(range(1,n+1), [1 / 2] * n, 'k', linewidth= 2, label='Theoretical probability')\n",
    "    \n",
    "    plt.xlabel('Number of Iterations')\n",
    "    plt.ylabel('Probability')\n",
    "    plt.title(\"Odds of rolling an even number\")\n",
    "    plt.xlim([1, n])\n",
    "    plt.ylim([0, 1])\n",
    "    plt.legend()\n",
    "    plt.show()\n"
   ]
  },
  {
   "cell_type": "markdown",
   "metadata": {},
   "source": [
    "## 5.3 Poker Events\n",
    "\n",
    "Let us perform a few simple simulations to show the agreement between theoretical probability and empirical estimates as the number of samples grows. \n",
    "\n",
    "Recall that a standard card deck consists of $52$ cards, each marked with  one of four suits $♠, ♡, ♢,$ or $♣$ and one of $13$ ranks $1, 2, ..., 10, J, Q$, or $K$. Thus, there are $13$ cards per suit, and $4$ cards per rank. Furthermore, cards of $♡$ and $♢$ suits are colored red while $♠$ and $♣$ cards are colored black, and cards of ranks $J$, $Q$, and $K$ are called <i>face cards</i>. \n",
    "\n",
    "Consider the experiment where a card is picked at random from the deck. Let $R$ be the event that the card is red and let $F$ denote the event that it is a face card. For each of the events $R$, $F$ and $R\\cup F$, \n",
    "we determine the theoretical probability, and then approximate it via simulations. \n",
    "\n",
    "In the following we determine the probability of each event and then approximate the probability by simulation.\n",
    "\n",
    "To begin with lets create a deck of cards."
   ]
  },
  {
   "cell_type": "code",
   "execution_count": 31,
   "metadata": {},
   "outputs": [],
   "source": [
    "# Define ranks, suits and cards\n",
    "Ranks = {'1', '2', '3', '4', '5', '6', '7', '8', '9', '10', 'J', 'Q', 'K'}\n",
    "Suits = {'♢', '♠', '♣', '♡'}\n",
    "# Creating a deck of cards\n",
    "Cards = [(Rank, Suit) for Rank in Ranks for Suit in Suits]\n",
    "# Now shuffle the deck\n",
    "np.random.shuffle(Cards)"
   ]
  },
  {
   "cell_type": "code",
   "execution_count": 32,
   "metadata": {},
   "outputs": [
    {
     "name": "stdout",
     "output_type": "stream",
     "text": [
      "♠2, ♠K, ♠Q, ♠1, ♠3, ♠8, ♠J, ♠6, ♠9, ♠10, ♠4, ♠7, ♠5\n",
      "♢2, ♢K, ♢Q, ♢1, ♢3, ♢8, ♢J, ♢6, ♢9, ♢10, ♢4, ♢7, ♢5\n",
      "♡2, ♡K, ♡Q, ♡1, ♡3, ♡8, ♡J, ♡6, ♡9, ♡10, ♡4, ♡7, ♡5\n",
      "♣2, ♣K, ♣Q, ♣1, ♣3, ♣8, ♣J, ♣6, ♣9, ♣10, ♣4, ♣7, ♣5\n"
     ]
    }
   ],
   "source": [
    "for suit in Suits:\n",
    "    print(\", \".join([(suit+rank) for rank in Ranks]))"
   ]
  },
  {
   "cell_type": "markdown",
   "metadata": {},
   "source": [
    "**Event $R$**: There are $2$ red suites, $♡$ and $♢$, each with $13$ cards, hence there are $26$ red cards, and $$P(R) = \\frac{26}{52} = \\frac{1}{2} = 0.5.$$\n",
    "\n",
    "Following is a simulation of this event probability."
   ]
  },
  {
   "cell_type": "code",
   "execution_count": 33,
   "metadata": {},
   "outputs": [
    {
     "data": {
      "application/vnd.jupyter.widget-view+json": {
       "model_id": "6c5d2557122b4a89bd5bd20a88bb27d9",
       "version_major": 2,
       "version_minor": 0
      },
      "text/plain": [
       "interactive(children=(IntSlider(value=5005, description='n', max=10000, min=10), IntSlider(value=3, descriptio…"
      ]
     },
     "metadata": {},
     "output_type": "display_data"
    }
   ],
   "source": [
    "# This is a decorator that creates the slider\n",
    "@widgets.interact(n=(10,10000),k=(1,5))\n",
    "def probability_event_R(n,k):\n",
    "    # k - Number of simulations\n",
    "    # n - Number of iterations per simulations\n",
    "    for simulation in range(k):\n",
    "        sample_deck = [Cards[np.random.randint(0,51)] for _ in range(n)]\n",
    "        R_count = 0\n",
    "        P_R = np.zeros((n,1))\n",
    "        for index in range(1, n):\n",
    "            if sample_deck[index][1] == '♢' or sample_deck[index][1] == '♡':\n",
    "                R_count = R_count + 1\n",
    "            P_R[index] = R_count/index\n",
    "\n",
    "        plt.plot(range(1, n+1), P_R, linewidth = 2.0, label = 'Simulation {}'.format(simulation+1))\n",
    "\n",
    "    plt.title(\"Empirical and Theoretical probability of red card\")\n",
    "    plt.xlabel('Iterations')\n",
    "    plt.ylabel('P(R)')\n",
    "    plt.plot(range(1, n+1), [0.5]*n, 'k', linewidth = 4.0, label = 'Theoretical Value')\n",
    "    plt.xlim([1, n])\n",
    "    plt.ylim([0, 1])\n",
    "    plt.legend()\n",
    "    plt.show()\n"
   ]
  },
  {
   "cell_type": "markdown",
   "metadata": {},
   "source": [
    "**Face Card ($F$)**: There are $4$ suits, each with $3$ face cards, hence $4\\times3=12$ face cards. Therefore,\n",
    "$$P(F) = \\frac{12}{52} = \\frac{3}{13} = 0.231.$$\n",
    "Here is a simulation of this probability."
   ]
  },
  {
   "cell_type": "code",
   "execution_count": 34,
   "metadata": {},
   "outputs": [
    {
     "data": {
      "application/vnd.jupyter.widget-view+json": {
       "model_id": "6d621c0e717f41b1b7029737513ca5a9",
       "version_major": 2,
       "version_minor": 0
      },
      "text/plain": [
       "interactive(children=(IntSlider(value=5005, description='n', max=10000, min=10), IntSlider(value=3, descriptio…"
      ]
     },
     "metadata": {},
     "output_type": "display_data"
    }
   ],
   "source": [
    "# This is a decorator that creates the slider\n",
    "@widgets.interact(n=(10,10000),k=(1,5))\n",
    "def probability_event_F(n,k):\n",
    "    # k - Number of simulations\n",
    "    # n - Number of samples in each simulation\n",
    "\n",
    "    # Sampling a card form the deck of cards\n",
    "\n",
    "    for simulation in range(k):\n",
    "        sample_deck = [ Cards[np.random.randint(0,51)] for _ in range(n)]\n",
    "        F_count = 0\n",
    "        P_F = np.zeros((n,))\n",
    "        for index in range(n):\n",
    "            if sample_deck[index][0] in {'J', 'K', 'Q'}:\n",
    "                F_count = F_count + 1\n",
    "            P_F[index] = F_count/(index+1)\n",
    "\n",
    "        plt.plot(range(1,n+1), P_F, linewidth = 2.0, label = 'Simulation {}'.format(simulation+1))\n",
    "\n",
    "    plt.plot(range(1, n+1), [3/13]*n, 'k', linewidth = 2.0, label = 'Theoretical Value')\n",
    "    plt.title(\"Empirical and Theoretical Probability of Face Cards\")\n",
    "    plt.xlabel('Iterations')\n",
    "    plt.ylabel('P(F)')\n",
    "    plt.xlim([0.8, n])\n",
    "    plt.ylim([0, 1])\n",
    "    plt.legend()\n",
    "    plt.show()\n"
   ]
  },
  {
   "cell_type": "markdown",
   "metadata": {},
   "source": [
    "**Red or Face ($R\\cup F$):** Let us first calculate the probability of the event $R\\cap F$. There are two red suits, $♡$ and $♢$, and each has $3$ face cards, hence $|R\\cap F|=6$. Therefore, \n",
    "$$P(R\\cap F) = \\frac6{52} = \\frac{3}{26} = 0.115.$$\n",
    "By inclusion-exclusion,\n",
    "$$P(R\\cup F) = P(R) + P(F) - P(R\\cap F)\n",
    "= 0.5 + 0. 231 - 0.115 = 0.615.$$\n",
    "We can simulate the intersection and union probabilities as follows."
   ]
  },
  {
   "cell_type": "code",
   "execution_count": 35,
   "metadata": {},
   "outputs": [
    {
     "data": {
      "application/vnd.jupyter.widget-view+json": {
       "model_id": "d898835f014d4eff983750c1618d4009",
       "version_major": 2,
       "version_minor": 0
      },
      "text/plain": [
       "interactive(children=(IntSlider(value=5005, description='n', max=10000, min=10), IntSlider(value=3, descriptio…"
      ]
     },
     "metadata": {},
     "output_type": "display_data"
    }
   ],
   "source": [
    "# This is a decorator that creates the slider\n",
    "@widgets.interact(n=(10,10000),k=(1,5))\n",
    "def probability_intersection(n,k):\n",
    "    # k - Number of simulations\n",
    "    # n - Number of samples in each simulation\n",
    "\n",
    "    for simulation in range(k):\n",
    "        sample_deck = [ Cards[np.random.randint(0,51)] for _ in range(n)]\n",
    "        intersection_count = 0\n",
    "        P_intersection = np.zeros((n,))\n",
    "        for index in range(n):\n",
    "            if (sample_deck[index][0] in {'J', 'K', 'Q'}) and (sample_deck[index][1] == '♢' or sample_deck[index][1] == '♡'):\n",
    "                intersection_count = intersection_count + 1\n",
    "            P_intersection[index] = intersection_count/(index+1)\n",
    "\n",
    "        plt.plot(range(1, n+1), P_intersection, linewidth = 2.0, label = 'Simulation {}'.format(simulation+1))\n",
    "\n",
    "    plt.title('Emphirical and Theoretical probabilities of red face cards', fontsize = 24)\n",
    "    plt.xlabel('Iterations', fontsize = 20)\n",
    "    plt.ylabel('$P(A\\cap B)$', fontsize = 20)\n",
    "    plt.xlim([1, n])\n",
    "    plt.ylim([0, 1])\n",
    "    plt.plot(range(1, n+1), [3/26]*n, 'k', linewidth = 2.0, label = 'Theoretical Value')\n",
    "    plt.legend()\n",
    "    plt.show()\n"
   ]
  },
  {
   "cell_type": "code",
   "execution_count": 36,
   "metadata": {
    "scrolled": false
   },
   "outputs": [
    {
     "data": {
      "application/vnd.jupyter.widget-view+json": {
       "model_id": "35d5bdbf070f442584b16c7b994e420e",
       "version_major": 2,
       "version_minor": 0
      },
      "text/plain": [
       "interactive(children=(IntSlider(value=5005, description='n', max=10000, min=10), IntSlider(value=3, descriptio…"
      ]
     },
     "metadata": {},
     "output_type": "display_data"
    }
   ],
   "source": [
    "# This is a decorator that creates the slider\n",
    "@widgets.interact(n=(10,10000),k=(1,5))\n",
    "def probability_union(n,k):\n",
    "    for simulation in range(k):\n",
    "        sample_deck = [Cards[np.random.randint(0,51)] for _ in range(n)]\n",
    "        union_count = 0\n",
    "        P_union = np.zeros((n,))\n",
    "        for index in range(n):\n",
    "            if (sample_deck[index][0] in {'J', 'K', 'Q'}) or (sample_deck[index][1] == '♢' or sample_deck[index][1] == '♡'):\n",
    "                union_count = union_count + 1\n",
    "            P_union[index] = union_count/(index+1)\n",
    "\n",
    "        plt.plot(range(1, n+1), P_union, linewidth = 2.0, label = 'Simulation {}'.format(simulation+1))\n",
    "\n",
    "    plt.plot(range(1, n+1), [1/2 + 3/13 - 3/26]*n, 'k', linewidth = 2.0, label = 'Theoretical Value')\n",
    "\n",
    "    plt.xlabel('Iterations', fontsize = 20)\n",
    "    plt.ylabel('$P(A\\cap B)$', fontsize = 20)\n",
    "    plt.xlim([1 ,n])\n",
    "    plt.ylim([0 ,1])\n",
    "    plt.legend()\n",
    "    plt.show()\n"
   ]
  },
  {
   "cell_type": "code",
   "execution_count": null,
   "metadata": {},
   "outputs": [],
   "source": []
  }
 ],
 "metadata": {
  "kernelspec": {
   "display_name": "Python 3",
   "language": "python",
   "name": "python3"
  },
  "language_info": {
   "codemirror_mode": {
    "name": "ipython",
    "version": 3
   },
   "file_extension": ".py",
   "mimetype": "text/x-python",
   "name": "python",
   "nbconvert_exporter": "python",
   "pygments_lexer": "ipython3",
   "version": "3.8.5"
  },
  "toc": {
   "base_numbering": 1,
   "nav_menu": {
    "height": "48px",
    "width": "252px"
   },
   "number_sections": true,
   "sideBar": true,
   "skip_h1_title": false,
   "title_cell": "Table of Contents",
   "title_sidebar": "Contents",
   "toc_cell": false,
   "toc_position": {},
   "toc_section_display": "block",
   "toc_window_display": false
  },
  "varInspector": {
   "cols": {
    "lenName": 16,
    "lenType": 16,
    "lenVar": 40
   },
   "kernels_config": {
    "python": {
     "delete_cmd_postfix": "",
     "delete_cmd_prefix": "del ",
     "library": "var_list.py",
     "varRefreshCmd": "print(var_dic_list())"
    },
    "r": {
     "delete_cmd_postfix": ") ",
     "delete_cmd_prefix": "rm(",
     "library": "var_list.r",
     "varRefreshCmd": "cat(var_dic_list()) "
    }
   },
   "types_to_exclude": [
    "module",
    "function",
    "builtin_function_or_method",
    "instance",
    "_Feature"
   ],
   "window_display": false
  }
 },
 "nbformat": 4,
 "nbformat_minor": 2
}
