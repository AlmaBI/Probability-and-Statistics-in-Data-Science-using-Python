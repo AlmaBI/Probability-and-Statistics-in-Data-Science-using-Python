{
 "cells": [
  {
   "cell_type": "markdown",
   "metadata": {},
   "source": [
    "<html>Data Assignment 8\n",
    "Programming Assignment due Apr 5, 2021 05:03 CEST\n",
    "\n",
    "Introduction\n",
    "In this assignment you will learn to use functions to access, query, and gain simple insights from datasets.\n",
    "\n",
    "Dataset\n",
    "The Titanic was a British passenger liner that collided with an iceberg and sank in its maiden voyage. Tragicallly, of the 2,200 passengers onboard, only 800 survived. We will use the Titanic:Machine Learning from disaster dataset to estimate survival probabilies associated with various passengers. We will use only the train.csv file.\n",
    "\n",
    "Some useful functions\n",
    "The following functions outlined in pandas library may prove helpful.\n",
    "\n",
    "pandas.read_csv() → Reads the .csv file\n",
    "pandas.value_counts() → Returns count of unique values\n",
    "Questions\n",
    "Using the dataset, estimate the following.\n",
    "    </html>"
   ]
  },
  {
   "cell_type": "code",
   "execution_count": 80,
   "metadata": {},
   "outputs": [],
   "source": [
    "import pandas as pd\n",
    "import numpy as np\n",
    "import random\n",
    "import matplotlib.pyplot as plt"
   ]
  },
  {
   "cell_type": "code",
   "execution_count": 81,
   "metadata": {},
   "outputs": [
    {
     "data": {
      "text/plain": [
       "(891, 12)"
      ]
     },
     "execution_count": 81,
     "metadata": {},
     "output_type": "execute_result"
    }
   ],
   "source": [
    "data = pd.read_csv('C:/Users/almbi/Probability and Statistics/Topic 8/train.csv')    \n",
    "data.shape"
   ]
  },
  {
   "cell_type": "code",
   "execution_count": 82,
   "metadata": {},
   "outputs": [
    {
     "data": {
      "text/plain": [
       "PassengerId  Survived  Pclass  Name                                                  Sex     Age   SibSp  Parch  Ticket    Fare      Cabin  Embarked\n",
       "890          1         1       Behr, Mr. Karl Howell                                 male    26.0  0      0      111369    30.0000   C148   C           1\n",
       "337          0         1       Pears, Mr. Thomas Clinton                             male    29.0  1      0      113776    66.6000   C2     S           1\n",
       "332          0         1       Partner, Mr. Austen                                   male    45.5  0      0      113043    28.5000   C124   S           1\n",
       "330          1         1       Hippach, Miss. Jean Gertrude                          female  16.0  0      1      111361    57.9792   B18    C           1\n",
       "328          1         2       Ball, Mrs. (Ada E Hall)                               female  36.0  0      0      28551     13.0000   D      S           1\n",
       "                                                                                                                                                       ..\n",
       "584          0         1       Ross, Mr. John Hugo                                   male    36.0  0      0      13049     40.1250   A10    C           1\n",
       "582          1         1       Thayer, Mrs. John Borland (Marian Longstreth Morris)  female  39.0  1      1      17421     110.8833  C68    C           1\n",
       "578          1         1       Silvey, Mrs. William Baird (Alice Munger)             female  39.0  1      0      13507     55.9000   E44    S           1\n",
       "573          1         1       Flynn, Mr. John Irwin (\"Irving\")                      male    36.0  0      0      PC 17474  26.3875   E25    S           1\n",
       "2            1         1       Cumings, Mrs. John Bradley (Florence Briggs Thayer)   female  38.0  1      0      PC 17599  71.2833   C85    C           1\n",
       "Length: 183, dtype: int64"
      ]
     },
     "execution_count": 82,
     "metadata": {},
     "output_type": "execute_result"
    }
   ],
   "source": [
    "data.value_counts() #  Returns count of unique values"
   ]
  },
  {
   "cell_type": "code",
   "execution_count": 83,
   "metadata": {},
   "outputs": [
    {
     "data": {
      "text/plain": [
       "Index(['PassengerId', 'Survived', 'Pclass', 'Name', 'Sex', 'Age', 'SibSp',\n",
       "       'Parch', 'Ticket', 'Fare', 'Cabin', 'Embarked'],\n",
       "      dtype='object')"
      ]
     },
     "execution_count": 83,
     "metadata": {},
     "output_type": "execute_result"
    }
   ],
   "source": [
    "data.columns"
   ]
  },
  {
   "cell_type": "code",
   "execution_count": 84,
   "metadata": {},
   "outputs": [
    {
     "data": {
      "text/plain": [
       "0    549\n",
       "1    342\n",
       "Name: Survived, dtype: int64"
      ]
     },
     "execution_count": 84,
     "metadata": {},
     "output_type": "execute_result"
    }
   ],
   "source": [
    "data['Survived'].value_counts()"
   ]
  },
  {
   "cell_type": "code",
   "execution_count": 54,
   "metadata": {},
   "outputs": [
    {
     "data": {
      "text/plain": [
       "0.36363636363636365"
      ]
     },
     "execution_count": 54,
     "metadata": {},
     "output_type": "execute_result"
    }
   ],
   "source": [
    "152/418 "
   ]
  },
  {
   "cell_type": "code",
   "execution_count": 85,
   "metadata": {},
   "outputs": [
    {
     "name": "stdout",
     "output_type": "stream",
     "text": [
      "Survival_probability: 0    0.616162\n",
      "1    0.383838\n",
      "Name: Survived, dtype: float64\n"
     ]
    }
   ],
   "source": [
    "#Survival probability for a passenger.\n",
    "attributes = ['Survived','PassengerId']\n",
    "data_por = pd.read_csv(\"C:/Users/almbi/Probability and Statistics/Topic 8/train.csv\",usecols=attributes)\n",
    "data_temp = data_por[\"Survived\"].value_counts()\n",
    "Survival_probability = (data_temp/data_temp.sum())\n",
    "print('Survival_probability:', Survival_probability)\n",
    "\n",
    "#data_temp = data_por[\"school\"].value_counts()\n",
    "#print(data_temp)\n",
    "#P_S = pd.DataFrame(data_temp/data_temp.sum())\n",
    "#print(data_temp.sum())\n",
    "#P_S.columns=[\"Probability\"]\n",
    "#P_S.columns.name = \"School\"\n",
    "#P_S.plot.bar()"
   ]
  },
  {
   "cell_type": "code",
   "execution_count": 60,
   "metadata": {},
   "outputs": [
    {
     "name": "stdout",
     "output_type": "stream",
     "text": [
      "0    0.616162\n",
      "1    0.383838\n",
      "Name: Survived, dtype: float64\n"
     ]
    }
   ],
   "source": [
    "##or it can be done as follows\n",
    "data = pd.read_csv('C:/Users/almbi/Probability and Statistics/Topic 8/train.csv')\n",
    "print(data['Survived'].value_counts(normalize=True))"
   ]
  },
  {
   "cell_type": "code",
   "execution_count": 56,
   "metadata": {},
   "outputs": [
    {
     "data": {
      "text/html": [
       "<div>\n",
       "<style scoped>\n",
       "    .dataframe tbody tr th:only-of-type {\n",
       "        vertical-align: middle;\n",
       "    }\n",
       "\n",
       "    .dataframe tbody tr th {\n",
       "        vertical-align: top;\n",
       "    }\n",
       "\n",
       "    .dataframe thead th {\n",
       "        text-align: right;\n",
       "    }\n",
       "</style>\n",
       "<table border=\"1\" class=\"dataframe\">\n",
       "  <thead>\n",
       "    <tr style=\"text-align: right;\">\n",
       "      <th></th>\n",
       "      <th>PassengerId</th>\n",
       "      <th>Survived</th>\n",
       "      <th>Pclass</th>\n",
       "      <th>Name</th>\n",
       "      <th>Sex</th>\n",
       "      <th>Age</th>\n",
       "      <th>SibSp</th>\n",
       "      <th>Parch</th>\n",
       "      <th>Ticket</th>\n",
       "      <th>Fare</th>\n",
       "      <th>Cabin</th>\n",
       "      <th>Embarked</th>\n",
       "    </tr>\n",
       "  </thead>\n",
       "  <tbody>\n",
       "    <tr>\n",
       "      <th>0</th>\n",
       "      <td>1</td>\n",
       "      <td>0</td>\n",
       "      <td>3</td>\n",
       "      <td>Braund, Mr. Owen Harris</td>\n",
       "      <td>male</td>\n",
       "      <td>22.0</td>\n",
       "      <td>1</td>\n",
       "      <td>0</td>\n",
       "      <td>A/5 21171</td>\n",
       "      <td>7.2500</td>\n",
       "      <td>NaN</td>\n",
       "      <td>S</td>\n",
       "    </tr>\n",
       "    <tr>\n",
       "      <th>1</th>\n",
       "      <td>2</td>\n",
       "      <td>1</td>\n",
       "      <td>1</td>\n",
       "      <td>Cumings, Mrs. John Bradley (Florence Briggs Th...</td>\n",
       "      <td>female</td>\n",
       "      <td>38.0</td>\n",
       "      <td>1</td>\n",
       "      <td>0</td>\n",
       "      <td>PC 17599</td>\n",
       "      <td>71.2833</td>\n",
       "      <td>C85</td>\n",
       "      <td>C</td>\n",
       "    </tr>\n",
       "    <tr>\n",
       "      <th>2</th>\n",
       "      <td>3</td>\n",
       "      <td>1</td>\n",
       "      <td>3</td>\n",
       "      <td>Heikkinen, Miss. Laina</td>\n",
       "      <td>female</td>\n",
       "      <td>26.0</td>\n",
       "      <td>0</td>\n",
       "      <td>0</td>\n",
       "      <td>STON/O2. 3101282</td>\n",
       "      <td>7.9250</td>\n",
       "      <td>NaN</td>\n",
       "      <td>S</td>\n",
       "    </tr>\n",
       "    <tr>\n",
       "      <th>3</th>\n",
       "      <td>4</td>\n",
       "      <td>1</td>\n",
       "      <td>1</td>\n",
       "      <td>Futrelle, Mrs. Jacques Heath (Lily May Peel)</td>\n",
       "      <td>female</td>\n",
       "      <td>35.0</td>\n",
       "      <td>1</td>\n",
       "      <td>0</td>\n",
       "      <td>113803</td>\n",
       "      <td>53.1000</td>\n",
       "      <td>C123</td>\n",
       "      <td>S</td>\n",
       "    </tr>\n",
       "    <tr>\n",
       "      <th>4</th>\n",
       "      <td>5</td>\n",
       "      <td>0</td>\n",
       "      <td>3</td>\n",
       "      <td>Allen, Mr. William Henry</td>\n",
       "      <td>male</td>\n",
       "      <td>35.0</td>\n",
       "      <td>0</td>\n",
       "      <td>0</td>\n",
       "      <td>373450</td>\n",
       "      <td>8.0500</td>\n",
       "      <td>NaN</td>\n",
       "      <td>S</td>\n",
       "    </tr>\n",
       "  </tbody>\n",
       "</table>\n",
       "</div>"
      ],
      "text/plain": [
       "   PassengerId  Survived  Pclass  \\\n",
       "0            1         0       3   \n",
       "1            2         1       1   \n",
       "2            3         1       3   \n",
       "3            4         1       1   \n",
       "4            5         0       3   \n",
       "\n",
       "                                                Name     Sex   Age  SibSp  \\\n",
       "0                            Braund, Mr. Owen Harris    male  22.0      1   \n",
       "1  Cumings, Mrs. John Bradley (Florence Briggs Th...  female  38.0      1   \n",
       "2                             Heikkinen, Miss. Laina  female  26.0      0   \n",
       "3       Futrelle, Mrs. Jacques Heath (Lily May Peel)  female  35.0      1   \n",
       "4                           Allen, Mr. William Henry    male  35.0      0   \n",
       "\n",
       "   Parch            Ticket     Fare Cabin Embarked  \n",
       "0      0         A/5 21171   7.2500   NaN        S  \n",
       "1      0          PC 17599  71.2833   C85        C  \n",
       "2      0  STON/O2. 3101282   7.9250   NaN        S  \n",
       "3      0            113803  53.1000  C123        S  \n",
       "4      0            373450   8.0500   NaN        S  "
      ]
     },
     "execution_count": 56,
     "metadata": {},
     "output_type": "execute_result"
    }
   ],
   "source": [
    "data.head()"
   ]
  },
  {
   "cell_type": "code",
   "execution_count": 86,
   "metadata": {},
   "outputs": [
    {
     "name": "stdout",
     "output_type": "stream",
     "text": [
      "Survival_probability for Woman: Survived  Sex   \n",
      "1         female    0.742038\n",
      "0         female    0.257962\n",
      "dtype: float64\n"
     ]
    }
   ],
   "source": [
    "#Survival probability for a female passenger.\n",
    "attributeF = ['Survived','Sex']\n",
    "data_por = pd.read_csv(\"C:/Users/almbi/Probability and Statistics/Topic 8/train.csv\",usecols=attributeF)\n",
    "data_temp = data_por.loc[data_por[\"Sex\"]==\"female\"].value_counts()\n",
    "Survival_probability = (data_temp/data_temp.sum())\n",
    "print('Survival_probability for Woman:', Survival_probability)"
   ]
  },
  {
   "cell_type": "code",
   "execution_count": 175,
   "metadata": {},
   "outputs": [
    {
     "name": "stdout",
     "output_type": "stream",
     "text": [
      "Sex     Survived\n",
      "female  1           0.742038\n",
      "        0           0.257962\n",
      "Name: Survived, dtype: float64\n"
     ]
    }
   ],
   "source": [
    "##or it can be done as follows\n",
    "data = pd.read_csv('C:/Users/almbi/Probability and Statistics/Topic 8/train.csv')\n",
    "print(data[data['Sex'] == 'female'].groupby(['Sex'])['Survived'].value_counts() / data[data['Sex'] == 'female']['Survived'].count())"
   ]
  },
  {
   "cell_type": "code",
   "execution_count": 176,
   "metadata": {},
   "outputs": [
    {
     "name": "stdout",
     "output_type": "stream",
     "text": [
      "Sex   Survived\n",
      "male  0           0.811092\n",
      "      1           0.188908\n",
      "Name: Survived, dtype: float64\n"
     ]
    }
   ],
   "source": [
    "##or it can be done as follows\n",
    "data = pd.read_csv('C:/Users/almbi/Probability and Statistics/Topic 8/train.csv')\n",
    "print(data[data['Sex'] == 'male'].groupby(['Sex'])['Survived'].value_counts() / data[data['Sex'] == 'male']['Survived'].count())"
   ]
  },
  {
   "cell_type": "markdown",
   "metadata": {},
   "source": [
    "#Probability that a person is a female and survives.\n",
    "\n",
    "𝑃(Female | Survives)= Female AND Survives / Total number of Survivals"
   ]
  },
  {
   "cell_type": "code",
   "execution_count": 144,
   "metadata": {},
   "outputs": [
    {
     "name": "stdout",
     "output_type": "stream",
     "text": [
      "Age                 NaN\n",
      "Cabin               NaN\n",
      "Embarked            NaN\n",
      "Fare                NaN\n",
      "Name                NaN\n",
      "Parch               NaN\n",
      "PassengerId         NaN\n",
      "Pclass              NaN\n",
      "Sex            0.681287\n",
      "SibSp               NaN\n",
      "Survived       0.681287\n",
      "Ticket              NaN\n",
      "dtype: float64\n"
     ]
    }
   ],
   "source": [
    "data_temp.head()\n",
    "dataFemale = data_por.loc[data_por[\"Sex\"]==\"female\"]\n",
    "dataFemaleSurvived = dataFemale.loc[dataFemale[\"Survived\"]==1].count()\n",
    "#print(dataFemaleSurvived)\n",
    "TotalNrSurvivals = data.loc[data[\"Survived\"]==1].count()\n",
    "#print(TotalNrSurvivals)\n",
    "P_Female_Survives= dataFemaleSurvived / TotalNrSurvivals\n",
    "print(P_Female_Survives)"
   ]
  },
  {
   "cell_type": "code",
   "execution_count": 145,
   "metadata": {},
   "outputs": [
    {
     "data": {
      "text/plain": [
       "'77%'"
      ]
     },
     "execution_count": 145,
     "metadata": {},
     "output_type": "execute_result"
    }
   ],
   "source": [
    "women = data[(data['Sex'] == 'female') & (data['Age'] > 16)]\n",
    "surviving_women = data[(data['Sex'] == 'female') & (data['Age'] > 16) & (data['Survived'] == 1)]\n",
    "women_chance_of_survival = surviving_women.shape[0] / women.shape[0]\n",
    "format(women_chance_of_survival, \".0%\")"
   ]
  },
  {
   "cell_type": "code",
   "execution_count": 153,
   "metadata": {},
   "outputs": [
    {
     "name": "stdout",
     "output_type": "stream",
     "text": [
      "233\n"
     ]
    },
    {
     "data": {
      "text/plain": [
       "'68%'"
      ]
     },
     "execution_count": 153,
     "metadata": {},
     "output_type": "execute_result"
    }
   ],
   "source": [
    "women = data[(data['Sex'] == 'female')]\n",
    "#print(women.shape[0])\n",
    "surviving_women = data[(data['Sex'] == 'female') & (data['Survived'] == 1)]\n",
    "print(surviving_women.shape[0])\n",
    "\n",
    "survival = data[(data['Survived'] == 1)]\n",
    "#women_chance_of_survival = surviving_women.shape[0] / women.shape[0]\n",
    "#format(women_chance_of_survival, \".0%\")\n",
    "womanChanceSur = surviving_women.shape[0] / survival.shape[0]\n",
    "format(womanChanceSur, \".0%\")\n"
   ]
  },
  {
   "cell_type": "code",
   "execution_count": 172,
   "metadata": {},
   "outputs": [
    {
     "name": "stdout",
     "output_type": "stream",
     "text": [
      "314\n",
      "891\n",
      "0.35241301907968575\n"
     ]
    }
   ],
   "source": [
    "women = data[(data['Sex'] == 'female')]\n",
    "print(women.shape[0])\n",
    "all = data\n",
    "print(all.shape[0])\n",
    "\n",
    "P_women = women.shape[0 ]/ all.shape[0]\n",
    "print(P_women)\n",
    "\n",
    "#P_women = women.shape[0] / all.shape[0]\n"
   ]
  },
  {
   "cell_type": "code",
   "execution_count": 173,
   "metadata": {},
   "outputs": [
    {
     "name": "stdout",
     "output_type": "stream",
     "text": [
      "577\n",
      "891\n",
      "0.6475869809203143\n"
     ]
    }
   ],
   "source": [
    "men = data[(data['Sex'] == 'male')]\n",
    "print(men.shape[0])\n",
    "all = data\n",
    "print(all.shape[0])\n",
    "\n",
    "P_men = men.shape[0 ]/ all.shape[0]\n",
    "print(P_men)\n",
    "\n",
    "#P_women = women.shape[0] / all.shape[0]"
   ]
  },
  {
   "cell_type": "code",
   "execution_count": 177,
   "metadata": {},
   "outputs": [
    {
     "name": "stdout",
     "output_type": "stream",
     "text": [
      "Sex     Survived\n",
      "female  1           0.261504\n",
      "        0           0.090909\n",
      "male    0           0.525253\n",
      "        1           0.122334\n",
      "Name: Survived, dtype: float64\n"
     ]
    }
   ],
   "source": [
    "#Probability that a person is a female and survives.\n",
    "data = pd.read_csv('C:/Users/almbi/Probability and Statistics/Topic 8/train.csv')\n",
    "  \n",
    "print(data.groupby(['Sex'])['Survived'].value_counts() / data['Survived'].count())"
   ]
  },
  {
   "cell_type": "code",
   "execution_count": null,
   "metadata": {},
   "outputs": [],
   "source": []
  }
 ],
 "metadata": {
  "kernelspec": {
   "display_name": "Python 3",
   "language": "python",
   "name": "python3"
  },
  "language_info": {
   "codemirror_mode": {
    "name": "ipython",
    "version": 3
   },
   "file_extension": ".py",
   "mimetype": "text/x-python",
   "name": "python",
   "nbconvert_exporter": "python",
   "pygments_lexer": "ipython3",
   "version": "3.8.5"
  }
 },
 "nbformat": 4,
 "nbformat_minor": 4
}
